{
 "cells": [
  {
   "cell_type": "code",
   "execution_count": 7,
   "metadata": {},
   "outputs": [],
   "source": [
    "import undetected_chromedriver as uc\n",
    "from selenium.webdriver.common.by import By\n",
    "from selenium.webdriver.support.wait import WebDriverWait\n",
    "from selenium.common.exceptions import TimeoutException, ElementNotVisibleException, ElementNotSelectableException, NoSuchElementException\n",
    "from bs4 import BeautifulSoup as BS\n",
    "import lxml\n",
    "\n",
    "import sys\n",
    "from pathlib import Path\n",
    "\n",
    "# Подключение к библиотеки с конфигами\n",
    "path_to_configs = str(Path.cwd().parent.joinpath('configs'))\n",
    "sys.path.append(path_to_configs)\n",
    "from configs_drivers import drive_1, drive_2, drive_3, initial_driver"
   ]
  },
  {
   "cell_type": "code",
   "execution_count": 17,
   "metadata": {},
   "outputs": [],
   "source": [
    "def _start_driver(initial:initial_driver, url: str) -> uc.Chrome:\n",
    "    # Запуск Скрытного Браузера Chrome\n",
    "    # Запускаем с опциями\n",
    "    chrome_options = uc.ChromeOptions()\n",
    "    \n",
    "    \n",
    "    # Запускаем через прокси сервер\n",
    "    # chrome_options.add_argument(f'--proxy-server={initial.proxy}')\n",
    "\n",
    "    # Указываем местоположение на экране и размер экрана\n",
    "    chrome_options.add_argument(f\"--window-position={initial.browserLeft},{initial.browserTop}\")\n",
    "    chrome_options.add_argument(f\"--window-size={initial.browserWidth},{initial.browserHeight}\")\n",
    "\n",
    "   \n",
    "    # Меняем узер агент\n",
    "    # chrome_options.add_argument(\"--user-agent=wMozilla/5.0 (X11; Linux x86_64) AppleWebKit/537.36 (KHTML, like Gecko) Chrome/113.0.0.0 Safari/537.36\")\n",
    "    # Запускаем сам ChromeDriver\n",
    "    driver = uc.Chrome(options=chrome_options)\n",
    "\n",
    "    # Запрашиваем стартувыю страницу\n",
    "    driver.get(url)\n",
    "    # time_sleep(2)\n",
    "    return driver\n"
   ]
  },
  {
   "cell_type": "code",
   "execution_count": 18,
   "metadata": {},
   "outputs": [],
   "source": [
    "link_to_sbermarket = 'https://sbermarket.ru/'\n",
    "link_to_user_agent = 'https://wtools.io/ru/check-my-user-agent'\n",
    "# link_to_user_agent = 'https://2ip.ru/'\n",
    "# driver = _start_driver(drive_1, link_to_sbermarket)\n",
    "# driver = _start_driver(drive_1, link_to_user_agent)\n",
    "# driver = uc.Chrome()"
   ]
  },
  {
   "cell_type": "code",
   "execution_count": null,
   "metadata": {},
   "outputs": [
    {
     "data": {
      "text/plain": [
       "'Mozilla/5.0 (Windows NT 10.0; Win64; x64) AppleWebKit/537.36 (KHTML, like Gecko) Chrome/113.0.0.0 Safari/537.36'"
      ]
     },
     "execution_count": 11,
     "metadata": {},
     "output_type": "execute_result"
    }
   ],
   "source": [
    "soup = BS(driver.page_source, 'lxml')\n",
    "ss = soup.find('div', class_='x_content').find('pre').get_text(strip=True)\n",
    "ss"
   ]
  },
  {
   "cell_type": "code",
   "execution_count": 13,
   "metadata": {},
   "outputs": [],
   "source": [
    "driver.quit()"
   ]
  }
 ],
 "metadata": {
  "kernelspec": {
   "display_name": "Python 3",
   "language": "python",
   "name": "python3"
  },
  "language_info": {
   "codemirror_mode": {
    "name": "ipython",
    "version": 3
   },
   "file_extension": ".py",
   "mimetype": "text/x-python",
   "name": "python",
   "nbconvert_exporter": "python",
   "pygments_lexer": "ipython3",
   "version": "3.11.3"
  },
  "orig_nbformat": 4
 },
 "nbformat": 4,
 "nbformat_minor": 2
}
